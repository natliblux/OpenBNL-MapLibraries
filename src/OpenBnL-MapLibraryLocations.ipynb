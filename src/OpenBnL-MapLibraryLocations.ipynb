{
 "cells": [
  {
   "cell_type": "markdown",
   "id": "e6fa3d84-3f2e-4269-b1f5-0913117874bb",
   "metadata": {
    "editable": true,
    "slideshow": {
     "slide_type": ""
    },
    "tags": []
   },
   "source": [
    "# BIBNet - Map Library Locations\n",
    "Using the BIBNet API (see https://data.bnl.lu/apis/infobib/), this notebook will get the list of all libraries in Luxembourg.\n",
    "For each library, it will retrieve detailed information including address and opening hours.\n",
    "The library will then be plotted on an OpenStreetMap of Luxembourg.\n",
    "\n",
    "### Required Project: Folium\n",
    "[Folium](https://python-visualization.github.io/folium/latest/index.html) is installed below to ensure that this notebook can be run correctly using online tools such as [mybinder.org](https://mybinder.org/).\n",
    "In order to produce a map using OpenStreetMaps (OSM), Folium is used which provides a simple interface to OSM.  Folium’s API requires GPS coordinates to be able to place a point on a map.  [Nominatum](https://nominatim.openstreetmap.org/ui/search.html), a service of OSM, is used to retrieve the GPS coordinates of each library based on its address."
   ]
  },
  {
   "cell_type": "code",
   "execution_count": null,
   "id": "94f6d29d-8a0c-4e44-8d97-86da3b0990c3",
   "metadata": {},
   "outputs": [],
   "source": [
    "%pip install folium\n",
    "import folium"
   ]
  },
  {
   "cell_type": "code",
   "execution_count": null,
   "id": "b01513ee-9636-4a78-995c-965bd917b4b3",
   "metadata": {
    "editable": true,
    "slideshow": {
     "slide_type": ""
    },
    "tags": []
   },
   "outputs": [],
   "source": [
    "import requests\n",
    "import json\n",
    "import html\n",
    "import time"
   ]
  },
  {
   "cell_type": "code",
   "execution_count": null,
   "id": "29ac7447-9855-4139-a9b0-9ee5b19d62b8",
   "metadata": {},
   "outputs": [],
   "source": [
    "# set up the referer and the user-agent as required by Nominatum User Policy\n",
    "# https://operations.osmfoundation.org/policies/nominatim/\n",
    "bnl_headers = {\n",
    "    'User-Agent': 'Mozilla/5.0 (Windows NT 10.0; Win64; x64) AppleWebKit/537.36 (KHTML, like Gecko) Chrome/111.0.0.0 Safari/537.36',\n",
    "    'referer': 'https://data.bnl.lu/'\n",
    "}"
   ]
  },
  {
   "cell_type": "code",
   "execution_count": null,
   "id": "2cbf388a-b1ef-4ba9-bfee-076626be32ac",
   "metadata": {},
   "outputs": [],
   "source": [
    "# Retrieve the list of libraries in json format\n",
    "# this provides only the name and the aleph sub lib code\n",
    "api_url = \"https://infobib.bibnet.lu/bibnet-libraries.json\"\n",
    "response = requests.get(api_url)"
   ]
  },
  {
   "cell_type": "code",
   "execution_count": null,
   "id": "6ae0228a-e5b6-4b3e-bbcc-24051bb3427b",
   "metadata": {},
   "outputs": [],
   "source": [
    "# convert the list of libraries to the Python dict format\n",
    "libraries = response.json()"
   ]
  },
  {
   "cell_type": "code",
   "execution_count": null,
   "id": "43be1b70-8add-4f7b-a479-c23835a71309",
   "metadata": {
    "editable": true,
    "slideshow": {
     "slide_type": ""
    },
    "tags": []
   },
   "outputs": [],
   "source": [
    "library_data = {}\n",
    "\n",
    "# for each library in the list, search for further details include address\n",
    "for library_list in libraries[\"libraries\"]:\n",
    "    lib_code = library_list[\"alephSublibCode\"]\n",
    "    lib_name = library_list[\"libraryName\"]\n",
    "    \n",
    "    # build the url with the code for the library\n",
    "    lib_url = \"https://infobib.bibnet.lu/show.php?lib=\" + lib_code + \"&format=json&lang=eng\"\n",
    "    try:\n",
    "        response = requests.get(lib_url)\n",
    "    except Exception:\n",
    "        # If there is an error with the request, we skip this library\n",
    "        continue\n",
    "        \n",
    "    lib_details = response.json()\n",
    "    \n",
    "    # if there is an address (not all libraries have one) \n",
    "    # then build the search criteria to get the longitude and latitude\n",
    "    # otherwise skip this entry\n",
    "    if (\"address\" in lib_details):\n",
    "        # Get separate street, city and post code which are HTML encoded\n",
    "        lib_street = html.unescape(lib_details[\"address\"][\"address\"])\n",
    "        lib_city = html.unescape(lib_details[\"address\"][\"place\"])\n",
    "        lib_postcode = lib_details[\"address\"][\"postcode\"]\n",
    "        \n",
    "        # Build the search query to get longitude and latitue\n",
    "        coord_url = \"https://nominatim.openstreetmap.org/search.php?format=jsonv2&accept-language=en-gb&\" \\\n",
    "            + \"street=\" + html.escape(lib_street) + \"&city=\" + html.escape(lib_city) \\\n",
    "            + \"&country=Luxembourg&postalcode=\" + lib_postcode[2:]\n",
    "\n",
    "        # request the longitude and latitude from OpenStreetMap api\n",
    "        response = requests.get(coord_url, headers=bnl_headers)\n",
    "        coord_details = response.json()\n",
    "\n",
    "        # if there are results, then get the longitude and latitude\n",
    "        # otherwise skip this entry\n",
    "        if (len(coord_details) >0 ):\n",
    "            latitude = coord_details[0][\"lat\"]\n",
    "            longitude = coord_details[0][\"lon\"]\n",
    "        else:\n",
    "            continue\n",
    "    else:\n",
    "        continue\n",
    "        \n",
    "    # add the library to the list with it's address, latitude and longitude using the library name as the key\n",
    "    library_data[lib_name] = lib_street + \", \" + lib_city + \" \" + lib_postcode, latitude, longitude\n",
    "\n",
    "    # wait 1 second as we cannot send more than 1 request per second to Nominatum\n",
    "    # https://operations.osmfoundation.org/policies/nominatim/\n",
    "    time.sleep(1)"
   ]
  },
  {
   "cell_type": "markdown",
   "id": "a91209b8-67a3-43b5-a241-ebd57937ce34",
   "metadata": {},
   "source": [
    "## Using Folium\n",
    "Folium is used to easily display an OpenStreetMap map. \n",
    "Documentation is available here:\n",
    "https://python-visualization.github.io/folium/latest/index.html"
   ]
  },
  {
   "cell_type": "code",
   "execution_count": null,
   "id": "dd8e5105-49e0-4722-af69-93ecb90291bf",
   "metadata": {
    "scrolled": true
   },
   "outputs": [],
   "source": [
    "# use Colmar-Berg as centre point of map so the display shows all the points\n",
    "# display the scale and allow zooming\n",
    "map = folium.Map(location=[49.8115688,6.0013008], zoom_start=9, control_scale=True, zoom_control=True)\n",
    "\n",
    "# add each library with it's name and address as the popup so that it can be copied\n",
    "for library_name, library_coord in library_data.items():\n",
    "    folium.Marker([library_coord[1], library_coord[2]], popup=library_name + \"\\n\" + library_coord[0]).add_to(map)       \n",
    "map"
   ]
  }
 ],
 "metadata": {
  "kernelspec": {
   "display_name": "Python 3 (ipykernel)",
   "language": "python",
   "name": "python3"
  },
  "language_info": {
   "codemirror_mode": {
    "name": "ipython",
    "version": 3
   },
   "file_extension": ".py",
   "mimetype": "text/x-python",
   "name": "python",
   "nbconvert_exporter": "python",
   "pygments_lexer": "ipython3",
   "version": "3.12.7"
  }
 },
 "nbformat": 4,
 "nbformat_minor": 5
}
